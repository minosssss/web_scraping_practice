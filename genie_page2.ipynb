{
 "cells": [
  {
   "cell_type": "code",
   "execution_count": 3,
   "id": "2878faca",
   "metadata": {},
   "outputs": [],
   "source": [
    "from selenium import webdriver\n",
    "from bs4 import BeautifulSoup\n",
    "driver = webdriver.Chrome(\"C:/Users/minO/chromedriver/chromedriver.exe\")\n",
    "url = 'https://www.genie.co.kr/chart/top200'\n",
    "url2 = 'https://www.genie.co.kr/chart/top200?ditc=D&ymd=20210820&hh=11&rtm=Y&pg=2'\n",
    "driver.get(url)\n",
    "html = driver.page_source\n",
    "soup = BeautifulSoup(html, 'html.parser')\n",
    "\n",
    "import pandas as pd\n",
    "\n",
    "song_data = []\n",
    "rank = 1\n",
    "songs = soup.select('tbody > tr')\n",
    "for song in songs:\n",
    " title = song.select('a.title')[0].text.strip()\n",
    " singer = song.select('a.artist')[0].text\n",
    " song_data.append(['Genie', rank, title, singer])\n",
    " rank = rank + 1\n"
   ]
  },
  {
   "cell_type": "code",
   "execution_count": 4,
   "id": "dd8ca1d5",
   "metadata": {},
   "outputs": [],
   "source": [
    "driver = webdriver.Chrome(\"C:/Users/minO/chromedriver/chromedriver.exe\")\n",
    "url2 = 'https://www.genie.co.kr/chart/top200?ditc=D&ymd=20210820&hh=11&rtm=Y&pg=2'\n",
    "driver.get(url2)\n",
    "html2 = driver.page_source\n",
    "soup2 = BeautifulSoup(html2, 'html.parser')"
   ]
  },
  {
   "cell_type": "code",
   "execution_count": 9,
   "id": "493c0ddb",
   "metadata": {},
   "outputs": [],
   "source": [
    "song_data2 = []\n",
    "rank2 = 51\n",
    "songs2 = soup2.select('tbody > tr')\n",
    "for song2 in songs2:\n",
    " title2 = song2.select('a.title')[0].text.strip()\n",
    " singer2 = song2.select('a.artist')[0].text\n",
    " song_data.append(['Genie', rank2, title2, singer2])\n",
    " rank2 = rank2 + 1\n"
   ]
  },
  {
   "cell_type": "code",
   "execution_count": 13,
   "id": "0bf061bd",
   "metadata": {},
   "outputs": [],
   "source": [
    "columns = ['서비스', '순위', '타이틀', '가수']\n",
    "pd_data = pd.DataFrame(song_data, columns = columns)\n",
    "pd_data.to_excel('../web_scraping_practice/genie_total.xlsx', index=False)"
   ]
  },
  {
   "cell_type": "code",
   "execution_count": 14,
   "id": "d5925346",
   "metadata": {},
   "outputs": [],
   "source": [
    "driver.quit()"
   ]
  },
  {
   "cell_type": "code",
   "execution_count": null,
   "id": "3609958d",
   "metadata": {},
   "outputs": [],
   "source": []
  }
 ],
 "metadata": {
  "kernelspec": {
   "display_name": "Python 3",
   "language": "python",
   "name": "python3"
  },
  "language_info": {
   "codemirror_mode": {
    "name": "ipython",
    "version": 3
   },
   "file_extension": ".py",
   "mimetype": "text/x-python",
   "name": "python",
   "nbconvert_exporter": "python",
   "pygments_lexer": "ipython3",
   "version": "3.8.8"
  }
 },
 "nbformat": 4,
 "nbformat_minor": 5
}
