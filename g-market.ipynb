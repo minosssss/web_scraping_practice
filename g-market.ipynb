{
 "cells": [
  {
   "cell_type": "code",
   "execution_count": 1,
   "id": "23956695",
   "metadata": {},
   "outputs": [],
   "source": [
    "from selenium import webdriver\n",
    "import time\n",
    "import requests\n",
    "\n",
    "url = 'http://corners.gmarket.co.kr/Bestsellers'\n",
    "driver = webdriver.Chrome(\"C:/Users/minO/chromedriver/chromedriver.exe\")\n",
    "driver.get(url)"
   ]
  },
  {
   "cell_type": "code",
   "execution_count": 51,
   "id": "7aa9b7d2",
   "metadata": {},
   "outputs": [
    {
     "data": {
      "text/plain": [
       "200"
      ]
     },
     "execution_count": 51,
     "metadata": {},
     "output_type": "execute_result"
    }
   ],
   "source": [
    "items = driver.find_elements_by_css_selector(\n",
    " \".best-list:nth-child(3) > ul > li\")\n",
    "len(items)"
   ]
  },
  {
   "cell_type": "code",
   "execution_count": 52,
   "id": "bd6f654b",
   "metadata": {},
   "outputs": [],
   "source": [
    "dict_list = []\n",
    "for item in items:\n",
    "    title = item.find_element_by_css_selector(\".itemname\").text\n",
    "    link = item.find_element_by_css_selector(\".itemname\").get_attribute(\"href\")\n",
    "    o_price = item.find_element_by_css_selector(\".o-price\").text[:-1]\n",
    "    s_price = item.find_element_by_css_selector(\".s-price\").text.split(\" \")[0][:-1]\n",
    "    \n",
    "    data = {\n",
    "        \"title\":title,\n",
    "        \"link\":link,\n",
    "        \"o_price\":o_price,\n",
    "        \"s_price\":s_price,\n",
    "    }\n",
    "    dict_list.append(data)"
   ]
  },
  {
   "cell_type": "code",
   "execution_count": 53,
   "id": "e27e130d",
   "metadata": {},
   "outputs": [],
   "source": [
    "driver.quit()"
   ]
  },
  {
   "cell_type": "code",
   "execution_count": 54,
   "id": "cd3b367d",
   "metadata": {},
   "outputs": [
    {
     "data": {
      "text/html": [
       "<div>\n",
       "<style scoped>\n",
       "    .dataframe tbody tr th:only-of-type {\n",
       "        vertical-align: middle;\n",
       "    }\n",
       "\n",
       "    .dataframe tbody tr th {\n",
       "        vertical-align: top;\n",
       "    }\n",
       "\n",
       "    .dataframe thead th {\n",
       "        text-align: right;\n",
       "    }\n",
       "</style>\n",
       "<table border=\"1\" class=\"dataframe\">\n",
       "  <thead>\n",
       "    <tr style=\"text-align: right;\">\n",
       "      <th></th>\n",
       "      <th>title</th>\n",
       "      <th>link</th>\n",
       "      <th>o_price</th>\n",
       "      <th>s_price</th>\n",
       "    </tr>\n",
       "  </thead>\n",
       "  <tbody>\n",
       "    <tr>\n",
       "      <th>0</th>\n",
       "      <td>[제스프리](M)제스프리 썬골드키위 점보사이즈 3.1kg(과당 156g 내외 19-...</td>\n",
       "      <td>http://item.gmarket.co.kr/Item?goodscode=21321...</td>\n",
       "      <td>30,900</td>\n",
       "      <td>28,500</td>\n",
       "    </tr>\n",
       "    <tr>\n",
       "      <th>1</th>\n",
       "      <td>달콤아삭 특품 샤인머스켓 2kg (3수~4수)</td>\n",
       "      <td>http://item.gmarket.co.kr/Item?goodscode=21925...</td>\n",
       "      <td>33,900</td>\n",
       "      <td>33,570</td>\n",
       "    </tr>\n",
       "    <tr>\n",
       "      <th>2</th>\n",
       "      <td>[제스프리](M)제스프리 썬골드키위 특대사이즈 3.1kg(과당 120g-140g 내...</td>\n",
       "      <td>http://item.gmarket.co.kr/Item?goodscode=20999...</td>\n",
       "      <td>30,900</td>\n",
       "      <td>28,500</td>\n",
       "    </tr>\n",
       "    <tr>\n",
       "      <th>3</th>\n",
       "      <td>한양식품 꽃보다오징어 오리지날 260g+260g 외</td>\n",
       "      <td>http://item.gmarket.co.kr/Item?goodscode=21982...</td>\n",
       "      <td></td>\n",
       "      <td>32,900</td>\n",
       "    </tr>\n",
       "    <tr>\n",
       "      <th>4</th>\n",
       "      <td>(깨비농원)고당도 하우스귤 4.5kg 소과</td>\n",
       "      <td>http://item.gmarket.co.kr/Item?goodscode=16164...</td>\n",
       "      <td>34,900</td>\n",
       "      <td>33,510</td>\n",
       "    </tr>\n",
       "  </tbody>\n",
       "</table>\n",
       "</div>"
      ],
      "text/plain": [
       "                                               title  \\\n",
       "0  [제스프리](M)제스프리 썬골드키위 점보사이즈 3.1kg(과당 156g 내외 19-...   \n",
       "1                          달콤아삭 특품 샤인머스켓 2kg (3수~4수)   \n",
       "2  [제스프리](M)제스프리 썬골드키위 특대사이즈 3.1kg(과당 120g-140g 내...   \n",
       "3                       한양식품 꽃보다오징어 오리지날 260g+260g 외   \n",
       "4                            (깨비농원)고당도 하우스귤 4.5kg 소과   \n",
       "\n",
       "                                                link o_price s_price  \n",
       "0  http://item.gmarket.co.kr/Item?goodscode=21321...  30,900  28,500  \n",
       "1  http://item.gmarket.co.kr/Item?goodscode=21925...  33,900  33,570  \n",
       "2  http://item.gmarket.co.kr/Item?goodscode=20999...  30,900  28,500  \n",
       "3  http://item.gmarket.co.kr/Item?goodscode=21982...          32,900  \n",
       "4  http://item.gmarket.co.kr/Item?goodscode=16164...  34,900  33,510  "
      ]
     },
     "execution_count": 54,
     "metadata": {},
     "output_type": "execute_result"
    }
   ],
   "source": [
    "import pandas as pd\n",
    "df = pd.DataFrame(dict_list)\n",
    "df.head()"
   ]
  },
  {
   "cell_type": "code",
   "execution_count": 55,
   "id": "32e94803",
   "metadata": {},
   "outputs": [],
   "source": [
    "nodata_indexs = df[\"o_price\"] == \"\""
   ]
  },
  {
   "cell_type": "code",
   "execution_count": 57,
   "id": "b11d6739",
   "metadata": {},
   "outputs": [
    {
     "data": {
      "text/plain": [
       "185    \n",
       "189    \n",
       "191    \n",
       "192    \n",
       "195    \n",
       "Name: o_price, dtype: object"
      ]
     },
     "execution_count": 57,
     "metadata": {},
     "output_type": "execute_result"
    }
   ],
   "source": [
    "df[\"o_price\"][nodata_indexs].tail()"
   ]
  },
  {
   "cell_type": "code",
   "execution_count": 58,
   "id": "7843ab0e",
   "metadata": {},
   "outputs": [
    {
     "data": {
      "text/plain": [
       "185     56,500\n",
       "189      5,990\n",
       "191     30,900\n",
       "192    149,000\n",
       "195     19,900\n",
       "Name: s_price, dtype: object"
      ]
     },
     "execution_count": 58,
     "metadata": {},
     "output_type": "execute_result"
    }
   ],
   "source": [
    "df[\"s_price\"][nodata_indexs].tail()"
   ]
  },
  {
   "cell_type": "code",
   "execution_count": 59,
   "id": "1cf5235a",
   "metadata": {},
   "outputs": [
    {
     "data": {
      "text/html": [
       "<div>\n",
       "<style scoped>\n",
       "    .dataframe tbody tr th:only-of-type {\n",
       "        vertical-align: middle;\n",
       "    }\n",
       "\n",
       "    .dataframe tbody tr th {\n",
       "        vertical-align: top;\n",
       "    }\n",
       "\n",
       "    .dataframe thead th {\n",
       "        text-align: right;\n",
       "    }\n",
       "</style>\n",
       "<table border=\"1\" class=\"dataframe\">\n",
       "  <thead>\n",
       "    <tr style=\"text-align: right;\">\n",
       "      <th></th>\n",
       "      <th>title</th>\n",
       "      <th>link</th>\n",
       "      <th>o_price</th>\n",
       "      <th>s_price</th>\n",
       "    </tr>\n",
       "  </thead>\n",
       "  <tbody>\n",
       "    <tr>\n",
       "      <th>185</th>\n",
       "      <td>윤쌀 10kg+10kg 쌀 20년산 (박스 포장)</td>\n",
       "      <td>http://item.gmarket.co.kr/Item?goodscode=18505...</td>\n",
       "      <td></td>\n",
       "      <td>56,500</td>\n",
       "    </tr>\n",
       "    <tr>\n",
       "      <th>189</th>\n",
       "      <td>(전단상품)온가족닭볶음탕용 1.2kg 팩</td>\n",
       "      <td>http://item.gmarket.co.kr/Item?goodscode=20446...</td>\n",
       "      <td></td>\n",
       "      <td>5,990</td>\n",
       "    </tr>\n",
       "    <tr>\n",
       "      <th>191</th>\n",
       "      <td>비비고 만두 총 10팩(왕교자X2+김치왕교자X2+매운왕교자X2+고기만두X2+김치만</td>\n",
       "      <td>http://item.gmarket.co.kr/Item?goodscode=21251...</td>\n",
       "      <td></td>\n",
       "      <td>30,900</td>\n",
       "    </tr>\n",
       "    <tr>\n",
       "      <th>192</th>\n",
       "      <td>[삼성전자]7%할인 갤럭시버즈2+케이스+CU8천원+경품EVENT</td>\n",
       "      <td>http://item.gmarket.co.kr/Item?goodscode=21898...</td>\n",
       "      <td></td>\n",
       "      <td>149,000</td>\n",
       "    </tr>\n",
       "    <tr>\n",
       "      <th>195</th>\n",
       "      <td>향긋한 여름 털복숭아 4.5kg/20과내외</td>\n",
       "      <td>http://item.gmarket.co.kr/Item?goodscode=21607...</td>\n",
       "      <td></td>\n",
       "      <td>19,900</td>\n",
       "    </tr>\n",
       "  </tbody>\n",
       "</table>\n",
       "</div>"
      ],
      "text/plain": [
       "                                             title  \\\n",
       "185                    윤쌀 10kg+10kg 쌀 20년산 (박스 포장)   \n",
       "189                         (전단상품)온가족닭볶음탕용 1.2kg 팩   \n",
       "191  비비고 만두 총 10팩(왕교자X2+김치왕교자X2+매운왕교자X2+고기만두X2+김치만   \n",
       "192            [삼성전자]7%할인 갤럭시버즈2+케이스+CU8천원+경품EVENT   \n",
       "195                        향긋한 여름 털복숭아 4.5kg/20과내외   \n",
       "\n",
       "                                                  link o_price  s_price  \n",
       "185  http://item.gmarket.co.kr/Item?goodscode=18505...           56,500  \n",
       "189  http://item.gmarket.co.kr/Item?goodscode=20446...            5,990  \n",
       "191  http://item.gmarket.co.kr/Item?goodscode=21251...           30,900  \n",
       "192  http://item.gmarket.co.kr/Item?goodscode=21898...          149,000  \n",
       "195  http://item.gmarket.co.kr/Item?goodscode=21607...           19,900  "
      ]
     },
     "execution_count": 59,
     "metadata": {},
     "output_type": "execute_result"
    }
   ],
   "source": [
    "df[nodata_indexs].tail()"
   ]
  },
  {
   "cell_type": "code",
   "execution_count": 60,
   "id": "0979cb1c",
   "metadata": {},
   "outputs": [],
   "source": [
    "df[\"o_price\"][nodata_indexs] = df[\"s_price\"][nodata_indexs]"
   ]
  },
  {
   "cell_type": "code",
   "execution_count": 63,
   "id": "31f7b5df",
   "metadata": {},
   "outputs": [
    {
     "data": {
      "text/html": [
       "<div>\n",
       "<style scoped>\n",
       "    .dataframe tbody tr th:only-of-type {\n",
       "        vertical-align: middle;\n",
       "    }\n",
       "\n",
       "    .dataframe tbody tr th {\n",
       "        vertical-align: top;\n",
       "    }\n",
       "\n",
       "    .dataframe thead th {\n",
       "        text-align: right;\n",
       "    }\n",
       "</style>\n",
       "<table border=\"1\" class=\"dataframe\">\n",
       "  <thead>\n",
       "    <tr style=\"text-align: right;\">\n",
       "      <th></th>\n",
       "      <th>title</th>\n",
       "      <th>link</th>\n",
       "      <th>o_price</th>\n",
       "      <th>s_price</th>\n",
       "    </tr>\n",
       "  </thead>\n",
       "  <tbody>\n",
       "    <tr>\n",
       "      <th>3</th>\n",
       "      <td>한양식품 꽃보다오징어 오리지날 260g+260g 외</td>\n",
       "      <td>http://item.gmarket.co.kr/Item?goodscode=21982...</td>\n",
       "      <td>32,900</td>\n",
       "      <td>32,900</td>\n",
       "    </tr>\n",
       "    <tr>\n",
       "      <th>5</th>\n",
       "      <td>두메산골 냉장 生닭다리살 (정육) 1kg+1kg(총2kg)</td>\n",
       "      <td>http://item.gmarket.co.kr/Item?goodscode=21106...</td>\n",
       "      <td>23,900</td>\n",
       "      <td>23,900</td>\n",
       "    </tr>\n",
       "    <tr>\n",
       "      <th>9</th>\n",
       "      <td>[참치브라더]노르웨이 슈페리얼 생연어 블럭 1kg</td>\n",
       "      <td>http://item.gmarket.co.kr/Item?goodscode=17249...</td>\n",
       "      <td>27,900</td>\n",
       "      <td>27,900</td>\n",
       "    </tr>\n",
       "    <tr>\n",
       "      <th>11</th>\n",
       "      <td>양희경 서울식 포기김치 10Kg/국내산 쿠폰적용 22120원</td>\n",
       "      <td>http://item.gmarket.co.kr/Item?goodscode=12783...</td>\n",
       "      <td>31,900</td>\n",
       "      <td>31,900</td>\n",
       "    </tr>\n",
       "    <tr>\n",
       "      <th>12</th>\n",
       "      <td>[산과들에]하루 한줌 견과 원데이프리미엄100낱봉 +10낱봉+사은품</td>\n",
       "      <td>http://item.gmarket.co.kr/Item?goodscode=15778...</td>\n",
       "      <td>41,500</td>\n",
       "      <td>41,500</td>\n",
       "    </tr>\n",
       "  </tbody>\n",
       "</table>\n",
       "</div>"
      ],
      "text/plain": [
       "                                    title  \\\n",
       "3            한양식품 꽃보다오징어 오리지날 260g+260g 외   \n",
       "5        두메산골 냉장 生닭다리살 (정육) 1kg+1kg(총2kg)   \n",
       "9             [참치브라더]노르웨이 슈페리얼 생연어 블럭 1kg   \n",
       "11      양희경 서울식 포기김치 10Kg/국내산 쿠폰적용 22120원   \n",
       "12  [산과들에]하루 한줌 견과 원데이프리미엄100낱봉 +10낱봉+사은품   \n",
       "\n",
       "                                                 link o_price s_price  \n",
       "3   http://item.gmarket.co.kr/Item?goodscode=21982...  32,900  32,900  \n",
       "5   http://item.gmarket.co.kr/Item?goodscode=21106...  23,900  23,900  \n",
       "9   http://item.gmarket.co.kr/Item?goodscode=17249...  27,900  27,900  \n",
       "11  http://item.gmarket.co.kr/Item?goodscode=12783...  31,900  31,900  \n",
       "12  http://item.gmarket.co.kr/Item?goodscode=15778...  41,500  41,500  "
      ]
     },
     "execution_count": 63,
     "metadata": {},
     "output_type": "execute_result"
    }
   ],
   "source": [
    "df[nodata_indexs].head()"
   ]
  },
  {
   "cell_type": "code",
   "execution_count": 64,
   "id": "ae4af42c",
   "metadata": {},
   "outputs": [
    {
     "data": {
      "text/html": [
       "<div>\n",
       "<style scoped>\n",
       "    .dataframe tbody tr th:only-of-type {\n",
       "        vertical-align: middle;\n",
       "    }\n",
       "\n",
       "    .dataframe tbody tr th {\n",
       "        vertical-align: top;\n",
       "    }\n",
       "\n",
       "    .dataframe thead th {\n",
       "        text-align: right;\n",
       "    }\n",
       "</style>\n",
       "<table border=\"1\" class=\"dataframe\">\n",
       "  <thead>\n",
       "    <tr style=\"text-align: right;\">\n",
       "      <th></th>\n",
       "      <th>title</th>\n",
       "      <th>link</th>\n",
       "      <th>o_price</th>\n",
       "      <th>s_price</th>\n",
       "    </tr>\n",
       "  </thead>\n",
       "  <tbody>\n",
       "    <tr>\n",
       "      <th>195</th>\n",
       "      <td>향긋한 여름 털복숭아 4.5kg/20과내외</td>\n",
       "      <td>http://item.gmarket.co.kr/Item?goodscode=21607...</td>\n",
       "      <td>19,900</td>\n",
       "      <td>19,900</td>\n",
       "    </tr>\n",
       "    <tr>\n",
       "      <th>196</th>\n",
       "      <td>[베베앙]베베앙 아기물티슈 시그니처 대용량 100매 캡형 10팩</td>\n",
       "      <td>http://item.gmarket.co.kr/Item?goodscode=16044...</td>\n",
       "      <td>23,800</td>\n",
       "      <td>11,900</td>\n",
       "    </tr>\n",
       "    <tr>\n",
       "      <th>197</th>\n",
       "      <td>[페리오]어린이칫솔 쿠폰가13530원 2단계핑크퐁칫솔20입+사은품</td>\n",
       "      <td>http://item.gmarket.co.kr/Item?goodscode=17038...</td>\n",
       "      <td>20,100</td>\n",
       "      <td>17,900</td>\n",
       "    </tr>\n",
       "    <tr>\n",
       "      <th>198</th>\n",
       "      <td>수퍼맘스토리카페/재밌고 기억하기 쉽게 가르쳐주는/미국초등수학교과서/맥그로힐/McGr...</td>\n",
       "      <td>http://item.gmarket.co.kr/Item?goodscode=21923...</td>\n",
       "      <td>68,000</td>\n",
       "      <td>48,800</td>\n",
       "    </tr>\n",
       "    <tr>\n",
       "      <th>199</th>\n",
       "      <td>[구글플레이](카드가능) 기프트코드 20만원 / 구글 기프트카드</td>\n",
       "      <td>http://item.gmarket.co.kr/Item?goodscode=16552...</td>\n",
       "      <td>200,000</td>\n",
       "      <td>190,000</td>\n",
       "    </tr>\n",
       "  </tbody>\n",
       "</table>\n",
       "</div>"
      ],
      "text/plain": [
       "                                                 title  \\\n",
       "195                            향긋한 여름 털복숭아 4.5kg/20과내외   \n",
       "196                [베베앙]베베앙 아기물티슈 시그니처 대용량 100매 캡형 10팩   \n",
       "197               [페리오]어린이칫솔 쿠폰가13530원 2단계핑크퐁칫솔20입+사은품   \n",
       "198  수퍼맘스토리카페/재밌고 기억하기 쉽게 가르쳐주는/미국초등수학교과서/맥그로힐/McGr...   \n",
       "199                [구글플레이](카드가능) 기프트코드 20만원 / 구글 기프트카드   \n",
       "\n",
       "                                                  link  o_price  s_price  \n",
       "195  http://item.gmarket.co.kr/Item?goodscode=21607...   19,900   19,900  \n",
       "196  http://item.gmarket.co.kr/Item?goodscode=16044...   23,800   11,900  \n",
       "197  http://item.gmarket.co.kr/Item?goodscode=17038...   20,100   17,900  \n",
       "198  http://item.gmarket.co.kr/Item?goodscode=21923...   68,000   48,800  \n",
       "199  http://item.gmarket.co.kr/Item?goodscode=16552...  200,000  190,000  "
      ]
     },
     "execution_count": 64,
     "metadata": {},
     "output_type": "execute_result"
    }
   ],
   "source": [
    "df.tail()"
   ]
  },
  {
   "cell_type": "code",
   "execution_count": 67,
   "id": "7eca5759",
   "metadata": {},
   "outputs": [],
   "source": [
    "df[\"o_price\"] = df[\"o_price\"].apply(\n",
    "    lambda price: price.replace(\",\",\"\")).astype(\"int\")\n",
    "df[\"s_price\"] = df[\"s_price\"].apply(\n",
    "    lambda price: price.replace(\",\",\"\")).astype(\"int\")"
   ]
  },
  {
   "cell_type": "code",
   "execution_count": 68,
   "id": "cfa8945a",
   "metadata": {},
   "outputs": [],
   "source": [
    "df[\"sale_rate\"] = round((1-df[\"s_price\"]/df[\"o_price\"])*100,2)"
   ]
  },
  {
   "cell_type": "code",
   "execution_count": 69,
   "id": "d9a2f49b",
   "metadata": {},
   "outputs": [
    {
     "data": {
      "text/html": [
       "<div>\n",
       "<style scoped>\n",
       "    .dataframe tbody tr th:only-of-type {\n",
       "        vertical-align: middle;\n",
       "    }\n",
       "\n",
       "    .dataframe tbody tr th {\n",
       "        vertical-align: top;\n",
       "    }\n",
       "\n",
       "    .dataframe thead th {\n",
       "        text-align: right;\n",
       "    }\n",
       "</style>\n",
       "<table border=\"1\" class=\"dataframe\">\n",
       "  <thead>\n",
       "    <tr style=\"text-align: right;\">\n",
       "      <th></th>\n",
       "      <th>title</th>\n",
       "      <th>link</th>\n",
       "      <th>o_price</th>\n",
       "      <th>s_price</th>\n",
       "      <th>sale_rate</th>\n",
       "    </tr>\n",
       "  </thead>\n",
       "  <tbody>\n",
       "    <tr>\n",
       "      <th>195</th>\n",
       "      <td>향긋한 여름 털복숭아 4.5kg/20과내외</td>\n",
       "      <td>http://item.gmarket.co.kr/Item?goodscode=21607...</td>\n",
       "      <td>19900</td>\n",
       "      <td>19900</td>\n",
       "      <td>0.00</td>\n",
       "    </tr>\n",
       "    <tr>\n",
       "      <th>196</th>\n",
       "      <td>[베베앙]베베앙 아기물티슈 시그니처 대용량 100매 캡형 10팩</td>\n",
       "      <td>http://item.gmarket.co.kr/Item?goodscode=16044...</td>\n",
       "      <td>23800</td>\n",
       "      <td>11900</td>\n",
       "      <td>50.00</td>\n",
       "    </tr>\n",
       "    <tr>\n",
       "      <th>197</th>\n",
       "      <td>[페리오]어린이칫솔 쿠폰가13530원 2단계핑크퐁칫솔20입+사은품</td>\n",
       "      <td>http://item.gmarket.co.kr/Item?goodscode=17038...</td>\n",
       "      <td>20100</td>\n",
       "      <td>17900</td>\n",
       "      <td>10.95</td>\n",
       "    </tr>\n",
       "    <tr>\n",
       "      <th>198</th>\n",
       "      <td>수퍼맘스토리카페/재밌고 기억하기 쉽게 가르쳐주는/미국초등수학교과서/맥그로힐/McGr...</td>\n",
       "      <td>http://item.gmarket.co.kr/Item?goodscode=21923...</td>\n",
       "      <td>68000</td>\n",
       "      <td>48800</td>\n",
       "      <td>28.24</td>\n",
       "    </tr>\n",
       "    <tr>\n",
       "      <th>199</th>\n",
       "      <td>[구글플레이](카드가능) 기프트코드 20만원 / 구글 기프트카드</td>\n",
       "      <td>http://item.gmarket.co.kr/Item?goodscode=16552...</td>\n",
       "      <td>200000</td>\n",
       "      <td>190000</td>\n",
       "      <td>5.00</td>\n",
       "    </tr>\n",
       "  </tbody>\n",
       "</table>\n",
       "</div>"
      ],
      "text/plain": [
       "                                                 title  \\\n",
       "195                            향긋한 여름 털복숭아 4.5kg/20과내외   \n",
       "196                [베베앙]베베앙 아기물티슈 시그니처 대용량 100매 캡형 10팩   \n",
       "197               [페리오]어린이칫솔 쿠폰가13530원 2단계핑크퐁칫솔20입+사은품   \n",
       "198  수퍼맘스토리카페/재밌고 기억하기 쉽게 가르쳐주는/미국초등수학교과서/맥그로힐/McGr...   \n",
       "199                [구글플레이](카드가능) 기프트코드 20만원 / 구글 기프트카드   \n",
       "\n",
       "                                                  link  o_price  s_price  \\\n",
       "195  http://item.gmarket.co.kr/Item?goodscode=21607...    19900    19900   \n",
       "196  http://item.gmarket.co.kr/Item?goodscode=16044...    23800    11900   \n",
       "197  http://item.gmarket.co.kr/Item?goodscode=17038...    20100    17900   \n",
       "198  http://item.gmarket.co.kr/Item?goodscode=21923...    68000    48800   \n",
       "199  http://item.gmarket.co.kr/Item?goodscode=16552...   200000   190000   \n",
       "\n",
       "     sale_rate  \n",
       "195       0.00  \n",
       "196      50.00  \n",
       "197      10.95  \n",
       "198      28.24  \n",
       "199       5.00  "
      ]
     },
     "execution_count": 69,
     "metadata": {},
     "output_type": "execute_result"
    }
   ],
   "source": [
    "df.tail()"
   ]
  },
  {
   "cell_type": "code",
   "execution_count": 70,
   "id": "c75c89f7",
   "metadata": {},
   "outputs": [
    {
     "data": {
      "text/html": [
       "<div>\n",
       "<style scoped>\n",
       "    .dataframe tbody tr th:only-of-type {\n",
       "        vertical-align: middle;\n",
       "    }\n",
       "\n",
       "    .dataframe tbody tr th {\n",
       "        vertical-align: top;\n",
       "    }\n",
       "\n",
       "    .dataframe thead th {\n",
       "        text-align: right;\n",
       "    }\n",
       "</style>\n",
       "<table border=\"1\" class=\"dataframe\">\n",
       "  <thead>\n",
       "    <tr style=\"text-align: right;\">\n",
       "      <th></th>\n",
       "      <th>title</th>\n",
       "      <th>link</th>\n",
       "      <th>o_price</th>\n",
       "      <th>s_price</th>\n",
       "      <th>sale_rate</th>\n",
       "    </tr>\n",
       "  </thead>\n",
       "  <tbody>\n",
       "    <tr>\n",
       "      <th>0</th>\n",
       "      <td>엄마옷로즈맘 시즌오프세일 인견5060중년여성의류</td>\n",
       "      <td>http://item.gmarket.co.kr/Item?goodscode=77658...</td>\n",
       "      <td>43000</td>\n",
       "      <td>12900</td>\n",
       "      <td>70.0</td>\n",
       "    </tr>\n",
       "    <tr>\n",
       "      <th>1</th>\n",
       "      <td>[엄지한복]20%+15% 엄지한복 남아/여아 균일가+복주머니 증정</td>\n",
       "      <td>http://item.gmarket.co.kr/Item?goodscode=16013...</td>\n",
       "      <td>130000</td>\n",
       "      <td>39000</td>\n",
       "      <td>70.0</td>\n",
       "    </tr>\n",
       "    <tr>\n",
       "      <th>2</th>\n",
       "      <td>[벨레다]벨레다공식총판 벨레다 어린이치약 50ml 6개 +증정품</td>\n",
       "      <td>http://item.gmarket.co.kr/Item?goodscode=19039...</td>\n",
       "      <td>143330</td>\n",
       "      <td>43000</td>\n",
       "      <td>70.0</td>\n",
       "    </tr>\n",
       "    <tr>\n",
       "      <th>3</th>\n",
       "      <td>데이데이 가을블라우스/맨투맨/팬츠/니트/가디건/팬츠</td>\n",
       "      <td>http://item.gmarket.co.kr/Item?goodscode=15706...</td>\n",
       "      <td>33000</td>\n",
       "      <td>9900</td>\n",
       "      <td>70.0</td>\n",
       "    </tr>\n",
       "    <tr>\n",
       "      <th>4</th>\n",
       "      <td>[캔디베이비]70%할인 시즌오프 유아동내의/내복/실내복</td>\n",
       "      <td>http://item.gmarket.co.kr/Item?goodscode=43858...</td>\n",
       "      <td>19000</td>\n",
       "      <td>5700</td>\n",
       "      <td>70.0</td>\n",
       "    </tr>\n",
       "  </tbody>\n",
       "</table>\n",
       "</div>"
      ],
      "text/plain": [
       "                                  title  \\\n",
       "0            엄마옷로즈맘 시즌오프세일 인견5060중년여성의류   \n",
       "1  [엄지한복]20%+15% 엄지한복 남아/여아 균일가+복주머니 증정   \n",
       "2   [벨레다]벨레다공식총판 벨레다 어린이치약 50ml 6개 +증정품   \n",
       "3          데이데이 가을블라우스/맨투맨/팬츠/니트/가디건/팬츠   \n",
       "4        [캔디베이비]70%할인 시즌오프 유아동내의/내복/실내복   \n",
       "\n",
       "                                                link  o_price  s_price  \\\n",
       "0  http://item.gmarket.co.kr/Item?goodscode=77658...    43000    12900   \n",
       "1  http://item.gmarket.co.kr/Item?goodscode=16013...   130000    39000   \n",
       "2  http://item.gmarket.co.kr/Item?goodscode=19039...   143330    43000   \n",
       "3  http://item.gmarket.co.kr/Item?goodscode=15706...    33000     9900   \n",
       "4  http://item.gmarket.co.kr/Item?goodscode=43858...    19000     5700   \n",
       "\n",
       "   sale_rate  \n",
       "0       70.0  \n",
       "1       70.0  \n",
       "2       70.0  \n",
       "3       70.0  \n",
       "4       70.0  "
      ]
     },
     "execution_count": 70,
     "metadata": {},
     "output_type": "execute_result"
    }
   ],
   "source": [
    "df[df[\"sale_rate\"]>50].sort_values(\"sale_rate\", ascending=False).reset_index(drop=True).head()"
   ]
  },
  {
   "cell_type": "code",
   "execution_count": null,
   "id": "8d05953c",
   "metadata": {},
   "outputs": [],
   "source": []
  }
 ],
 "metadata": {
  "kernelspec": {
   "display_name": "Python 3",
   "language": "python",
   "name": "python3"
  },
  "language_info": {
   "codemirror_mode": {
    "name": "ipython",
    "version": 3
   },
   "file_extension": ".py",
   "mimetype": "text/x-python",
   "name": "python",
   "nbconvert_exporter": "python",
   "pygments_lexer": "ipython3",
   "version": "3.8.8"
  }
 },
 "nbformat": 4,
 "nbformat_minor": 5
}
