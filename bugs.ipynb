{
 "cells": [
  {
   "cell_type": "code",
   "execution_count": 2,
   "id": "ed19a04c",
   "metadata": {},
   "outputs": [],
   "source": [
    "from selenium import webdriver\n",
    "from bs4 import BeautifulSoup\n",
    "\n",
    "driver = webdriver.Chrome(\"C:/Users/minO/chromedriver/chromedriver.exe\")\n",
    "url = 'https://music.bugs.co.kr/chart'\n",
    "driver.get(url)\n",
    "html = driver.page_source\n",
    "soup = BeautifulSoup(html, 'html.parser') "
   ]
  },
  {
   "cell_type": "code",
   "execution_count": 3,
   "id": "657330db",
   "metadata": {},
   "outputs": [
    {
     "name": "stdout",
     "output_type": "stream",
     "text": [
      "100\n"
     ]
    }
   ],
   "source": [
    "songs = soup.select('table.byChart > tbody > tr')\n",
    "print(len(songs))"
   ]
  },
  {
   "cell_type": "code",
   "execution_count": 4,
   "id": "4c1af992",
   "metadata": {},
   "outputs": [],
   "source": [
    "import pandas as pd\n",
    "song_data = []\n",
    "rank = 1\n",
    "for song in songs:\n",
    " title = song.select('p.title > a')[0].text\n",
    " singer = song.select('p.artist > a')[0].text\n",
    " song_data.append(['Bugs', rank, title, singer])\n",
    " rank = rank + 1\n"
   ]
  },
  {
   "cell_type": "code",
   "execution_count": 5,
   "id": "e178fcc5",
   "metadata": {},
   "outputs": [],
   "source": [
    "columns = ['서비스', '순위', '타이틀', '가수']\n",
    "pd_data = pd.DataFrame(song_data, columns = columns) \n"
   ]
  },
  {
   "cell_type": "code",
   "execution_count": 6,
   "id": "f8ecfe93",
   "metadata": {},
   "outputs": [
    {
     "data": {
      "text/html": [
       "<div>\n",
       "<style scoped>\n",
       "    .dataframe tbody tr th:only-of-type {\n",
       "        vertical-align: middle;\n",
       "    }\n",
       "\n",
       "    .dataframe tbody tr th {\n",
       "        vertical-align: top;\n",
       "    }\n",
       "\n",
       "    .dataframe thead th {\n",
       "        text-align: right;\n",
       "    }\n",
       "</style>\n",
       "<table border=\"1\" class=\"dataframe\">\n",
       "  <thead>\n",
       "    <tr style=\"text-align: right;\">\n",
       "      <th></th>\n",
       "      <th>서비스</th>\n",
       "      <th>순위</th>\n",
       "      <th>타이틀</th>\n",
       "      <th>가수</th>\n",
       "    </tr>\n",
       "  </thead>\n",
       "  <tbody>\n",
       "    <tr>\n",
       "      <th>0</th>\n",
       "      <td>Bugs</td>\n",
       "      <td>1</td>\n",
       "      <td>회상</td>\n",
       "      <td>정경호</td>\n",
       "    </tr>\n",
       "    <tr>\n",
       "      <th>1</th>\n",
       "      <td>Bugs</td>\n",
       "      <td>2</td>\n",
       "      <td>Queendom</td>\n",
       "      <td>Red Velvet (레드벨벳)</td>\n",
       "    </tr>\n",
       "    <tr>\n",
       "      <th>2</th>\n",
       "      <td>Bugs</td>\n",
       "      <td>3</td>\n",
       "      <td>DUMB DUMB</td>\n",
       "      <td>전소미</td>\n",
       "    </tr>\n",
       "    <tr>\n",
       "      <th>3</th>\n",
       "      <td>Bugs</td>\n",
       "      <td>4</td>\n",
       "      <td>STAY</td>\n",
       "      <td>The Kid LAROI</td>\n",
       "    </tr>\n",
       "    <tr>\n",
       "      <th>4</th>\n",
       "      <td>Bugs</td>\n",
       "      <td>5</td>\n",
       "      <td>낙하 (with 아이유)</td>\n",
       "      <td>AKMU(악뮤)</td>\n",
       "    </tr>\n",
       "    <tr>\n",
       "      <th>...</th>\n",
       "      <td>...</td>\n",
       "      <td>...</td>\n",
       "      <td>...</td>\n",
       "      <td>...</td>\n",
       "    </tr>\n",
       "    <tr>\n",
       "      <th>95</th>\n",
       "      <td>Bugs</td>\n",
       "      <td>96</td>\n",
       "      <td>Coin</td>\n",
       "      <td>아이유(IU)</td>\n",
       "    </tr>\n",
       "    <tr>\n",
       "      <th>96</th>\n",
       "      <td>Bugs</td>\n",
       "      <td>97</td>\n",
       "      <td>SUNNY</td>\n",
       "      <td>선미</td>\n",
       "    </tr>\n",
       "    <tr>\n",
       "      <th>97</th>\n",
       "      <td>Bugs</td>\n",
       "      <td>98</td>\n",
       "      <td>EVEREST (with Sam Kim)</td>\n",
       "      <td>AKMU(악뮤)</td>\n",
       "    </tr>\n",
       "    <tr>\n",
       "      <th>98</th>\n",
       "      <td>Bugs</td>\n",
       "      <td>99</td>\n",
       "      <td>Tiny Riot</td>\n",
       "      <td>Sam Ryder</td>\n",
       "    </tr>\n",
       "    <tr>\n",
       "      <th>99</th>\n",
       "      <td>Bugs</td>\n",
       "      <td>100</td>\n",
       "      <td>은하수를 닮은 너에게 (Feat.몰리디)</td>\n",
       "      <td>경서예지</td>\n",
       "    </tr>\n",
       "  </tbody>\n",
       "</table>\n",
       "<p>100 rows × 4 columns</p>\n",
       "</div>"
      ],
      "text/plain": [
       "     서비스   순위                      타이틀                 가수\n",
       "0   Bugs    1                       회상                정경호\n",
       "1   Bugs    2                 Queendom  Red Velvet (레드벨벳)\n",
       "2   Bugs    3                DUMB DUMB                전소미\n",
       "3   Bugs    4                     STAY      The Kid LAROI\n",
       "4   Bugs    5            낙하 (with 아이유)           AKMU(악뮤)\n",
       "..   ...  ...                      ...                ...\n",
       "95  Bugs   96                     Coin            아이유(IU)\n",
       "96  Bugs   97                    SUNNY                 선미\n",
       "97  Bugs   98  EVEREST (with Sam Kim)            AKMU(악뮤)\n",
       "98  Bugs   99                Tiny Riot          Sam Ryder\n",
       "99  Bugs  100   은하수를 닮은 너에게 (Feat.몰리디)               경서예지\n",
       "\n",
       "[100 rows x 4 columns]"
      ]
     },
     "execution_count": 6,
     "metadata": {},
     "output_type": "execute_result"
    }
   ],
   "source": [
    "pd_data"
   ]
  },
  {
   "cell_type": "code",
   "execution_count": 14,
   "id": "dfe6e669",
   "metadata": {},
   "outputs": [],
   "source": [
    "\n",
    "pd_data.to_excel(\"../web_scraping_practice/bugs_practice.xlsx\", index=False)"
   ]
  },
  {
   "cell_type": "code",
   "execution_count": 15,
   "id": "e4c0b624",
   "metadata": {},
   "outputs": [],
   "source": [
    "driver.quit()"
   ]
  },
  {
   "cell_type": "code",
   "execution_count": null,
   "id": "3f644deb",
   "metadata": {},
   "outputs": [],
   "source": []
  }
 ],
 "metadata": {
  "kernelspec": {
   "display_name": "Python 3",
   "language": "python",
   "name": "python3"
  },
  "language_info": {
   "codemirror_mode": {
    "name": "ipython",
    "version": 3
   },
   "file_extension": ".py",
   "mimetype": "text/x-python",
   "name": "python",
   "nbconvert_exporter": "python",
   "pygments_lexer": "ipython3",
   "version": "3.8.8"
  }
 },
 "nbformat": 4,
 "nbformat_minor": 5
}
