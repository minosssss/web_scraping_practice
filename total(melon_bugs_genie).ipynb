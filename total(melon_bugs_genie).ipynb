{
 "cells": [
  {
   "cell_type": "code",
   "execution_count": 4,
   "id": "5fc545fb",
   "metadata": {},
   "outputs": [
    {
     "data": {
      "text/plain": [
       "['../web_scraping_practice/melon_practice.xlsx',\n",
       " '../web_scraping_practice/bugs_practice.xlsx',\n",
       " '../web_scraping_practice/genie_total.xlsx']"
      ]
     },
     "execution_count": 4,
     "metadata": {},
     "output_type": "execute_result"
    }
   ],
   "source": [
    "import pandas as pd\n",
    "excel_names = ['../web_scraping_practice/melon_practice.xlsx', '../web_scraping_practice/bugs_practice.xlsx', '../web_scraping_practice/genie_total.xlsx']\n",
    "excel_names"
   ]
  },
  {
   "cell_type": "code",
   "execution_count": 5,
   "id": "dc7d0310",
   "metadata": {},
   "outputs": [],
   "source": [
    "appended_data = pd.DataFrame()\n",
    "for name in excel_names:\n",
    "    pd_data = pd.read_excel(name)\n",
    "    appended_data = appended_data.append(pd_data)"
   ]
  },
  {
   "cell_type": "code",
   "execution_count": 7,
   "id": "d0ff23d3",
   "metadata": {},
   "outputs": [
    {
     "name": "stdout",
     "output_type": "stream",
     "text": [
      "<class 'pandas.core.frame.DataFrame'>\n",
      "Int64Index: 300 entries, 0 to 99\n",
      "Data columns (total 4 columns):\n",
      " #   Column  Non-Null Count  Dtype \n",
      "---  ------  --------------  ----- \n",
      " 0   서비스     300 non-null    object\n",
      " 1   순위      300 non-null    int64 \n",
      " 2   타이틀     300 non-null    object\n",
      " 3   가수      300 non-null    object\n",
      "dtypes: int64(1), object(3)\n",
      "memory usage: 11.7+ KB\n"
     ]
    }
   ],
   "source": [
    "appended_data."
   ]
  },
  {
   "cell_type": "code",
   "execution_count": 8,
   "id": "d714f27a",
   "metadata": {},
   "outputs": [],
   "source": [
    "appended_data.to_excel('../web_scraping_practice/total(melon_bugs_genie).xlsx', index=False)"
   ]
  },
  {
   "cell_type": "code",
   "execution_count": null,
   "id": "3b9b7be8",
   "metadata": {},
   "outputs": [],
   "source": []
  }
 ],
 "metadata": {
  "kernelspec": {
   "display_name": "Python 3",
   "language": "python",
   "name": "python3"
  },
  "language_info": {
   "codemirror_mode": {
    "name": "ipython",
    "version": 3
   },
   "file_extension": ".py",
   "mimetype": "text/x-python",
   "name": "python",
   "nbconvert_exporter": "python",
   "pygments_lexer": "ipython3",
   "version": "3.8.8"
  }
 },
 "nbformat": 4,
 "nbformat_minor": 5
}
